{
 "cells": [
  {
   "cell_type": "code",
   "execution_count": 10,
   "metadata": {},
   "outputs": [
    {
     "name": "stdout",
     "output_type": "stream",
     "text": [
      "----------------------------------------------------------------------\n",
      "City: KeyError\n"
     ]
    },
    {
     "data": {
      "text/html": [
       "<div class=\"tex2jax_ignore\" style=\"white-space: pre-wrap\"><span style=\"padding: 2px; border-radius: 4px; border: 1px solid #bbdefb; background: #e3f2fd\">Москва</span> 5 октября Для ролика-презинтации (внутренняя разовая трансляция  Требуется актриса: Девушка - 18-25л, светлые глаза, светлые волосы, максимальное сходство лица с референсом (прилагается - оплата 3000р за смену Внимание: заявки отправлять на вацап вот на этот номер   89276358015 Татьяна Либо на почту: t89276358015@gmail.com Тема: девушка Утверждаем по видеовизитке В заявке: фио, видеовизитку, актуальные фото, возраст, рост, размер одежды, обувь</div>"
      ],
      "text/plain": [
       "BoxMarkup('Москва 5 октября Для ролика-презинтации (внутренняя разовая трансляция  Требуется актриса: Девушка - 18-25л, светлые глаза, светлые волосы, максимальное сходство лица с референсом (прилагается - оплата 3000р за смену Внимание: заявки отправлять на вацап вот на этот номер   89276358015 Татьяна Либо на почту: t89276358015@gmail.com Тема: девушка Утверждаем по видеовизитке В заявке: фио, видеовизитку, актуальные фото, возраст, рост, размер одежды, обувь',\n",
       "          [Span(0, 6, None)])"
      ]
     },
     "metadata": {},
     "output_type": "display_data"
    },
    {
     "name": "stdout",
     "output_type": "stream",
     "text": [
      "[]\n"
     ]
    }
   ],
   "source": [
    "from yargy import Parser\n",
    "from fact import CITY_PARSER, CityFact\n",
    "from ipymarkup import show_markup\n",
    "from dataloader import DataLoader\n",
    "from IPython.display import display\n",
    "\n",
    "lines = DataLoader().getTextList()\n",
    "parser = Parser(CITY_PARSER)\n",
    "\n",
    "for line in lines[:1]:\n",
    "    result_list = []\n",
    "    matches = list(parser.findall(line))\n",
    "    print('----------------------------------------------------------------------')\n",
    "    for match in matches:\n",
    "        if match is not None:\n",
    "            try:\n",
    "                result_list.append(match.fact.city)\n",
    "                print(\"City: \" + match.fact.city)\n",
    "            except KeyError:\n",
    "                print(\"City: KeyError\")             \n",
    "    show_markup(line, [_.span for _ in matches])\n",
    "    result_list = list(dict.fromkeys(result_list))\n",
    "    print(result_list)\n"
   ]
  },
  {
   "cell_type": "code",
   "execution_count": null,
   "metadata": {},
   "outputs": [],
   "source": []
  }
 ],
 "metadata": {
  "kernelspec": {
   "display_name": "env",
   "language": "python",
   "name": "env"
  },
  "language_info": {
   "codemirror_mode": {
    "name": "ipython",
    "version": 3
   },
   "file_extension": ".py",
   "mimetype": "text/x-python",
   "name": "python",
   "nbconvert_exporter": "python",
   "pygments_lexer": "ipython3",
   "version": "3.6.8"
  }
 },
 "nbformat": 4,
 "nbformat_minor": 2
}
