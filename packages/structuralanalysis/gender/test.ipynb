{
 "cells": [
  {
   "cell_type": "code",
   "execution_count": 5,
   "metadata": {},
   "outputs": [
    {
     "ename": "ModuleNotFoundError",
     "evalue": "No module named 'yargy'",
     "output_type": "error",
     "traceback": [
      "\u001b[0;31m---------------------------------------------------------------------------\u001b[0m",
      "\u001b[0;31mModuleNotFoundError\u001b[0m                       Traceback (most recent call last)",
      "\u001b[0;32m<ipython-input-5-94c75c3173a3>\u001b[0m in \u001b[0;36m<module>\u001b[0;34m\u001b[0m\n\u001b[0;32m----> 1\u001b[0;31m \u001b[0;32mfrom\u001b[0m \u001b[0myargy\u001b[0m \u001b[0;32mimport\u001b[0m \u001b[0mParser\u001b[0m\u001b[0;34m\u001b[0m\u001b[0;34m\u001b[0m\u001b[0m\n\u001b[0m\u001b[1;32m      2\u001b[0m \u001b[0;32mfrom\u001b[0m \u001b[0mfact\u001b[0m \u001b[0;32mimport\u001b[0m \u001b[0mGENDER_PARSER\u001b[0m\u001b[0;34m,\u001b[0m \u001b[0mGenderFact\u001b[0m\u001b[0;34m\u001b[0m\u001b[0;34m\u001b[0m\u001b[0m\n\u001b[1;32m      3\u001b[0m \u001b[0;32mfrom\u001b[0m \u001b[0mipymarkup\u001b[0m \u001b[0;32mimport\u001b[0m \u001b[0mshow_markup\u001b[0m\u001b[0;34m\u001b[0m\u001b[0;34m\u001b[0m\u001b[0m\n\u001b[1;32m      4\u001b[0m \u001b[0;32mfrom\u001b[0m \u001b[0mdataloader\u001b[0m \u001b[0;32mimport\u001b[0m \u001b[0mDataLoader\u001b[0m\u001b[0;34m\u001b[0m\u001b[0;34m\u001b[0m\u001b[0m\n\u001b[1;32m      5\u001b[0m \u001b[0;32mfrom\u001b[0m \u001b[0mrandom\u001b[0m \u001b[0;32mimport\u001b[0m \u001b[0msample\u001b[0m\u001b[0;34m\u001b[0m\u001b[0;34m\u001b[0m\u001b[0m\n",
      "\u001b[0;31mModuleNotFoundError\u001b[0m: No module named 'yargy'"
     ]
    }
   ],
   "source": [
    "from yargy import Parser\n",
    "from fact import GENDER_PARSER, GenderFact\n",
    "from ipymarkup import show_markup\n",
    "from dataloader import DataLoader\n",
    "from random import sample\n",
    "from IPython.display import display\n",
    "\n",
    "lines = DataLoader().getTextList()\n",
    "parser = Parser(GENDER_PARSER)\n",
    "\n",
    "for line in lines[:21]:\n",
    "    result_list = []\n",
    "    matches = list(parser.findall(line))\n",
    "    print('----------------------------------------------------------------------')\n",
    "    print(\"Gender: \")\n",
    "    for match in matches:\n",
    "        if match is not None:\n",
    "            try:\n",
    "                result_list.append(match.fact.gender)\n",
    "                print(\"\\t\" + match.fact.gender)\n",
    "            except KeyError:\n",
    "                print(\"\\tKeyError\")               \n",
    "    result_list = list(dict.fromkeys(result_list))\n",
    "    print(\"Result:\")\n",
    "    print(result_list)\n",
    "    show_markup(line, [_.span for _ in matches])\n",
    "\n"
   ]
  },
  {
   "cell_type": "code",
   "execution_count": null,
   "metadata": {},
   "outputs": [],
   "source": []
  }
 ],
 "metadata": {
  "kernelspec": {
   "display_name": "Python 3",
   "language": "python",
   "name": "python3"
  },
  "language_info": {
   "codemirror_mode": {
    "name": "ipython",
    "version": 3
   },
   "file_extension": ".py",
   "mimetype": "text/x-python",
   "name": "python",
   "nbconvert_exporter": "python",
   "pygments_lexer": "ipython3",
   "version": "3.6.8"
  }
 },
 "nbformat": 4,
 "nbformat_minor": 2
}
