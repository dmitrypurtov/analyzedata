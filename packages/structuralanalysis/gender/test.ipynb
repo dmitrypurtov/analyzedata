{
 "cells": [
  {
   "cell_type": "code",
   "execution_count": 4,
   "metadata": {},
   "outputs": [
    {
     "name": "stdout",
     "output_type": "stream",
     "text": [
      "----------------------------------------------------------------------\n"
     ]
    },
    {
     "data": {
      "text/plain": [
       "GenderFact(gender='male')"
      ]
     },
     "metadata": {},
     "output_type": "display_data"
    },
    {
     "name": "stdout",
     "output_type": "stream",
     "text": [
      "['Парень:']\n"
     ]
    },
    {
     "data": {
      "text/plain": [
       "GenderFact(gender='male')"
      ]
     },
     "metadata": {},
     "output_type": "display_data"
    },
    {
     "name": "stdout",
     "output_type": "stream",
     "text": [
      "['ПАРЕНЬ:']\n"
     ]
    },
    {
     "data": {
      "text/plain": [
       "GenderFact(gender='female')"
      ]
     },
     "metadata": {},
     "output_type": "display_data"
    },
    {
     "name": "stdout",
     "output_type": "stream",
     "text": [
      "['девушку:']\n"
     ]
    },
    {
     "data": {
      "text/plain": [
       "GenderFact(gender='male')"
      ]
     },
     "metadata": {},
     "output_type": "display_data"
    },
    {
     "name": "stdout",
     "output_type": "stream",
     "text": [
      "['парень:']\n"
     ]
    },
    {
     "data": {
      "text/html": [
       "<div class=\"tex2jax_ignore\" style=\"white-space: pre-wrap\">    Дата съемки: в первой половине октября (точная дата уточняется)  Права: ТВ (1 год)/ интернет (бессрочно)  Кто нужен:  <span style=\"padding: 2px; border-radius: 4px; border: 1px solid #bbdefb; background: #e3f2fd\">Парень</span> 27-35 лет  Типаж: Симпатичный молодой человек со спортивной фигурой, крепкого телосложения  Текста не будет/Отыграть эмоции  <span style=\"padding: 2px; border-radius: 4px; border: 1px solid #bbdefb; background: #e3f2fd\">ПАРЕНЬ</span> обнимает <span style=\"padding: 2px; border-radius: 4px; border: 1px solid #bbdefb; background: #e3f2fd\">девушку</span>, целует  УТВЕРЖДАЕТ РЕЖИССЕР ПО ВИДЕО - ВИЗИТКЕ  Можно проф. визитку, можно записать видео - сэлфи  Оплата: 20 000 руб - 20 % агентские  Куда отправлять:почта: k.godorozh@artcasta.ru  Важно в теме письма указать:  Ролик / <span style=\"padding: 2px; border-radius: 4px; border: 1px solid #bbdefb; background: #e3f2fd\">парень</span> бэнкси  В письме:  1. Свежие фото как вы выглядите сейчас  + ФОТО с голым торсом или в майке  2. Ф.И.О. / ваш номер телефона  3. Возраст/Рост/Размер одежды/Размер обуви  4. Видео - визитка </div>"
      ],
      "text/plain": [
       "BoxMarkup('    Дата съемки: в первой половине октября (точная дата уточняется)  Права: ТВ (1 год)/ интернет (бессрочно)  Кто нужен:  Парень 27-35 лет  Типаж: Симпатичный молодой человек со спортивной фигурой, крепкого телосложения  Текста не будет/Отыграть эмоции  ПАРЕНЬ обнимает девушку, целует  УТВЕРЖДАЕТ РЕЖИССЕР ПО ВИДЕО - ВИЗИТКЕ  Можно проф. визитку, можно записать видео - сэлфи  Оплата: 20 000 руб - 20 % агентские  Куда отправлять:почта: k.godorozh@artcasta.ru  Важно в теме письма указать:  Ролик / парень бэнкси  В письме:  1. Свежие фото как вы выглядите сейчас  + ФОТО с голым торсом или в майке  2. Ф.И.О. / ваш номер телефона  3. Возраст/Рост/Размер одежды/Размер обуви  4. Видео - визитка ',\n",
       "          [Span(122, 128, None),\n",
       "           Span(254, 260, None),\n",
       "           Span(270, 277, None),\n",
       "           Span(500, 506, None)])"
      ]
     },
     "metadata": {},
     "output_type": "display_data"
    },
    {
     "name": "stdout",
     "output_type": "stream",
     "text": [
      "----------------------------------------------------------------------\n"
     ]
    },
    {
     "data": {
      "text/plain": [
       "GenderFact(gender='male')"
      ]
     },
     "metadata": {},
     "output_type": "display_data"
    },
    {
     "name": "stdout",
     "output_type": "stream",
     "text": [
      "['Мужчина:']\n"
     ]
    },
    {
     "data": {
      "text/plain": [
       "GenderFact(gender='female')"
      ]
     },
     "metadata": {},
     "output_type": "display_data"
    },
    {
     "name": "stdout",
     "output_type": "stream",
     "text": [
      "['Девушка:']\n"
     ]
    },
    {
     "data": {
      "text/html": [
       "<div class=\"tex2jax_ignore\" style=\"white-space: pre-wrap\"> Ищем актеров для съемки в рекламном видео:     <span style=\"padding: 2px; border-radius: 4px; border: 1px solid #bbdefb; background: #e3f2fd\">Мужчина</span> 30-35 лет роль со словами, (нужны самопробы)     <span style=\"padding: 2px; border-radius: 4px; border: 1px solid #bbdefb; background: #e3f2fd\">Девушка</span> 30-35 лет роль со словами, (нужны самопробы)     Заявки принимаются ТОЛЬКО на почту, в теме письма указать «КАСТИНГ»: 7395555@bk.ru     Подходящим кандидатам в ответном письме вышлем текст для самопроб! </div>"
      ],
      "text/plain": [
       "BoxMarkup(' Ищем актеров для съемки в рекламном видео:     Мужчина 30-35 лет роль со словами, (нужны самопробы)     Девушка 30-35 лет роль со словами, (нужны самопробы)     Заявки принимаются ТОЛЬКО на почту, в теме письма указать «КАСТИНГ»: 7395555@bk.ru     Подходящим кандидатам в ответном письме вышлем текст для самопроб! ',\n",
       "          [Span(48, 55, None), Span(105, 112, None)])"
      ]
     },
     "metadata": {},
     "output_type": "display_data"
    },
    {
     "name": "stdout",
     "output_type": "stream",
     "text": [
      "----------------------------------------------------------------------\n"
     ]
    },
    {
     "data": {
      "text/html": [
       "<div class=\"tex2jax_ignore\" style=\"white-space: pre-wrap\"> В VEGAS КРОКУС СИТИ, состоится съёмка-концерт финального, отборочного тура для ЕВРОВИДЕНИЯ.  Друзья! Приглашаем зрителей в студию. Возраст от 14 до 30 лет.  ФОРМА ОДЕЖДЫ: яркий верх. Поддерживаем и болеем за артистов! Будет круто и весело!  СБОР в 18:30..БЕЗ ОПОЗДАНИЙ!  ВСТРЕЧАЕМ ВАС: м.Мякинино, Арбатско-Покровская линия, (синяя ветка)  В центре зала метро или при ВЫХОДЕ 1,2 в город, около стеклянных дверей метро на улице,  подходите к табличке ЕЛЕНА-ТВ  Окончание 22:00  Гонорар 400 руб. сразу по окончании съёмки.  Огромная просьба заявки не дублировать! Оформляйте заявку одним из удобных для Вас способом:  1..Заявки через WhatsApp:  8-977-278-28-69  8-910-440-88-02     2..Заявки по телефону:  8-977-278-28-69     2..Заявки через ЛС  В заявке укажите:  24.09  ЕКС (сокращение Евровидение Крокус Сити)  Фамилия Имя  Возраст  Одно фото </div>"
      ],
      "text/plain": [
       "BoxMarkup(' В VEGAS КРОКУС СИТИ, состоится съёмка-концерт финального, отборочного тура для ЕВРОВИДЕНИЯ.  Друзья! Приглашаем зрителей в студию. Возраст от 14 до 30 лет.  ФОРМА ОДЕЖДЫ: яркий верх. Поддерживаем и болеем за артистов! Будет круто и весело!  СБОР в 18:30..БЕЗ ОПОЗДАНИЙ!  ВСТРЕЧАЕМ ВАС: м.Мякинино, Арбатско-Покровская линия, (синяя ветка)  В центре зала метро или при ВЫХОДЕ 1,2 в город, около стеклянных дверей метро на улице,  подходите к табличке ЕЛЕНА-ТВ  Окончание 22:00  Гонорар 400 руб. сразу по окончании съёмки.  Огромная просьба заявки не дублировать! Оформляйте заявку одним из удобных для Вас способом:  1..Заявки через WhatsApp:  8-977-278-28-69  8-910-440-88-02     2..Заявки по телефону:  8-977-278-28-69     2..Заявки через ЛС  В заявке укажите:  24.09  ЕКС (сокращение Евровидение Крокус Сити)  Фамилия Имя  Возраст  Одно фото ',\n",
       "          [])"
      ]
     },
     "metadata": {},
     "output_type": "display_data"
    },
    {
     "name": "stdout",
     "output_type": "stream",
     "text": [
      "----------------------------------------------------------------------\n"
     ]
    },
    {
     "data": {
      "text/html": [
       "<div class=\"tex2jax_ignore\" style=\"white-space: pre-wrap\">    Нужны ПРОФ модели от 170см. Стройные улыбчивые.   По сценарию модели поднимаются по лестнице, сидят в зале, улыбаются.  Режиссер Борисов Руслан, сценарий по произведению Лермонтова \"Фаталист\" о будущем... 2053г. Фильм будет показываться на фестивале в Голливуде.  Оплата - 5тр 😃  Заявки на емейл livdonskaya@yandex.ru :  1) снепы - обязательно ☝  2) портфолио  4) фио, город, возраст, рост, параметры, ТЕЛ  📌 PS После отправки письма, напишите в ЛС https://vk.com/svetlanaidealmod , что отправили.    </div>"
      ],
      "text/plain": [
       "BoxMarkup('    Нужны ПРОФ модели от 170см. Стройные улыбчивые.   По сценарию модели поднимаются по лестнице, сидят в зале, улыбаются.  Режиссер Борисов Руслан, сценарий по произведению Лермонтова \"Фаталист\" о будущем... 2053г. Фильм будет показываться на фестивале в Голливуде.  Оплата - 5тр 😃  Заявки на емейл livdonskaya@yandex.ru :  1) снепы - обязательно ☝  2) портфолио  4) фио, город, возраст, рост, параметры, ТЕЛ  📌 PS После отправки письма, напишите в ЛС https://vk.com/svetlanaidealmod , что отправили.    ',\n",
       "          [])"
      ]
     },
     "metadata": {},
     "output_type": "display_data"
    },
    {
     "name": "stdout",
     "output_type": "stream",
     "text": [
      "----------------------------------------------------------------------\n"
     ]
    },
    {
     "ename": "KeyError",
     "evalue": "'парный'",
     "output_type": "error",
     "traceback": [
      "\u001b[1;31m---------------------------------------------------------------------------\u001b[0m",
      "\u001b[1;31mKeyError\u001b[0m                                  Traceback (most recent call last)",
      "\u001b[1;32m<ipython-input-4-cf56c063ed4d>\u001b[0m in \u001b[0;36m<module>\u001b[1;34m\u001b[0m\n\u001b[0;32m     14\u001b[0m     \u001b[0mprint\u001b[0m\u001b[1;33m(\u001b[0m\u001b[1;34m'----------------------------------------------------------------------'\u001b[0m\u001b[1;33m)\u001b[0m\u001b[1;33m\u001b[0m\u001b[0m\n\u001b[0;32m     15\u001b[0m     \u001b[1;32mfor\u001b[0m \u001b[0mmatch\u001b[0m \u001b[1;32min\u001b[0m \u001b[0mmatches\u001b[0m\u001b[1;33m:\u001b[0m\u001b[1;33m\u001b[0m\u001b[0m\n\u001b[1;32m---> 16\u001b[1;33m         \u001b[0mdisplay\u001b[0m\u001b[1;33m(\u001b[0m\u001b[0mmatch\u001b[0m\u001b[1;33m.\u001b[0m\u001b[0mfact\u001b[0m\u001b[1;33m)\u001b[0m\u001b[1;33m\u001b[0m\u001b[0m\n\u001b[0m\u001b[0;32m     17\u001b[0m         \u001b[0mprint\u001b[0m\u001b[1;33m(\u001b[0m\u001b[1;33m[\u001b[0m\u001b[0m_\u001b[0m\u001b[1;33m.\u001b[0m\u001b[0mvalue\u001b[0m \u001b[1;33m+\u001b[0m \u001b[1;34m':'\u001b[0m \u001b[1;32mfor\u001b[0m \u001b[0m_\u001b[0m \u001b[1;32min\u001b[0m \u001b[0mmatch\u001b[0m\u001b[1;33m.\u001b[0m\u001b[0mtokens\u001b[0m\u001b[1;33m]\u001b[0m\u001b[1;33m)\u001b[0m\u001b[1;33m\u001b[0m\u001b[0m\n\u001b[0;32m     18\u001b[0m     \u001b[0mspans\u001b[0m \u001b[1;33m=\u001b[0m \u001b[1;33m[\u001b[0m\u001b[0m_\u001b[0m\u001b[1;33m.\u001b[0m\u001b[0mspan\u001b[0m \u001b[1;32mfor\u001b[0m \u001b[0m_\u001b[0m \u001b[1;32min\u001b[0m \u001b[0mmatches\u001b[0m\u001b[1;33m]\u001b[0m\u001b[1;33m\u001b[0m\u001b[0m\n",
      "\u001b[1;32mc:\\users\\dmitr\\appdata\\local\\programs\\python\\python36-32\\lib\\site-packages\\yargy\\parser.py\u001b[0m in \u001b[0;36mfact\u001b[1;34m(self)\u001b[0m\n\u001b[0;32m    192\u001b[0m     \u001b[1;33m@\u001b[0m\u001b[0mproperty\u001b[0m\u001b[1;33m\u001b[0m\u001b[0m\n\u001b[0;32m    193\u001b[0m     \u001b[1;32mdef\u001b[0m \u001b[0mfact\u001b[0m\u001b[1;33m(\u001b[0m\u001b[0mself\u001b[0m\u001b[1;33m)\u001b[0m\u001b[1;33m:\u001b[0m\u001b[1;33m\u001b[0m\u001b[0m\n\u001b[1;32m--> 194\u001b[1;33m         \u001b[0mfact\u001b[0m \u001b[1;33m=\u001b[0m \u001b[0mself\u001b[0m\u001b[1;33m.\u001b[0m\u001b[0mtree\u001b[0m\u001b[1;33m.\u001b[0m\u001b[0minterpret\u001b[0m\u001b[1;33m(\u001b[0m\u001b[1;33m)\u001b[0m\u001b[1;33m\u001b[0m\u001b[0m\n\u001b[0m\u001b[0;32m    195\u001b[0m         \u001b[1;32mreturn\u001b[0m \u001b[0mfact\u001b[0m\u001b[1;33m.\u001b[0m\u001b[0mnormalized\u001b[0m\u001b[1;33m\u001b[0m\u001b[0m\n\u001b[0;32m    196\u001b[0m \u001b[1;33m\u001b[0m\u001b[0m\n",
      "\u001b[1;32mc:\\users\\dmitr\\appdata\\local\\programs\\python\\python36-32\\lib\\site-packages\\yargy\\tree\\constructors.py\u001b[0m in \u001b[0;36minterpret\u001b[1;34m(self)\u001b[0m\n\u001b[0;32m     44\u001b[0m         return self.transform(\n\u001b[0;32m     45\u001b[0m             \u001b[0mKeepInterpretationNodesTransformator\u001b[0m\u001b[1;33m,\u001b[0m\u001b[1;33m\u001b[0m\u001b[0m\n\u001b[1;32m---> 46\u001b[1;33m             \u001b[0mInterpretationTransformator\u001b[0m\u001b[1;33m\u001b[0m\u001b[0m\n\u001b[0m\u001b[0;32m     47\u001b[0m         )\n\u001b[0;32m     48\u001b[0m \u001b[1;33m\u001b[0m\u001b[0m\n",
      "\u001b[1;32mc:\\users\\dmitr\\appdata\\local\\programs\\python\\python36-32\\lib\\site-packages\\yargy\\tree\\constructors.py\u001b[0m in \u001b[0;36mtransform\u001b[1;34m(self, *transformators)\u001b[0m\n\u001b[0;32m     20\u001b[0m \u001b[1;33m\u001b[0m\u001b[0m\n\u001b[0;32m     21\u001b[0m     \u001b[1;32mdef\u001b[0m \u001b[0mtransform\u001b[0m\u001b[1;33m(\u001b[0m\u001b[0mself\u001b[0m\u001b[1;33m,\u001b[0m \u001b[1;33m*\u001b[0m\u001b[0mtransformators\u001b[0m\u001b[1;33m)\u001b[0m\u001b[1;33m:\u001b[0m\u001b[1;33m\u001b[0m\u001b[0m\n\u001b[1;32m---> 22\u001b[1;33m         \u001b[1;32mreturn\u001b[0m \u001b[0mTransformatorsComposition\u001b[0m\u001b[1;33m(\u001b[0m\u001b[0mtransformators\u001b[0m\u001b[1;33m)\u001b[0m\u001b[1;33m(\u001b[0m\u001b[0mself\u001b[0m\u001b[1;33m)\u001b[0m\u001b[1;33m\u001b[0m\u001b[0m\n\u001b[0m\u001b[0;32m     23\u001b[0m \u001b[1;33m\u001b[0m\u001b[0m\n\u001b[0;32m     24\u001b[0m     \u001b[1;33m@\u001b[0m\u001b[0mproperty\u001b[0m\u001b[1;33m\u001b[0m\u001b[0m\n",
      "\u001b[1;32mc:\\users\\dmitr\\appdata\\local\\programs\\python\\python36-32\\lib\\site-packages\\yargy\\visitor.py\u001b[0m in \u001b[0;36m__call__\u001b[1;34m(self, item)\u001b[0m\n\u001b[0;32m     28\u001b[0m     \u001b[1;32mdef\u001b[0m \u001b[0m__call__\u001b[0m\u001b[1;33m(\u001b[0m\u001b[0mself\u001b[0m\u001b[1;33m,\u001b[0m \u001b[0mitem\u001b[0m\u001b[1;33m)\u001b[0m\u001b[1;33m:\u001b[0m\u001b[1;33m\u001b[0m\u001b[0m\n\u001b[0;32m     29\u001b[0m         \u001b[1;32mfor\u001b[0m \u001b[0mtransformator\u001b[0m \u001b[1;32min\u001b[0m \u001b[0mself\u001b[0m\u001b[1;33m.\u001b[0m\u001b[0mtransformators\u001b[0m\u001b[1;33m:\u001b[0m\u001b[1;33m\u001b[0m\u001b[0m\n\u001b[1;32m---> 30\u001b[1;33m             \u001b[0mitem\u001b[0m \u001b[1;33m=\u001b[0m \u001b[0mtransformator\u001b[0m\u001b[1;33m(\u001b[0m\u001b[1;33m)\u001b[0m\u001b[1;33m(\u001b[0m\u001b[0mitem\u001b[0m\u001b[1;33m)\u001b[0m\u001b[1;33m\u001b[0m\u001b[0m\n\u001b[0m\u001b[0;32m     31\u001b[0m         \u001b[1;32mreturn\u001b[0m \u001b[0mitem\u001b[0m\u001b[1;33m\u001b[0m\u001b[0m\n",
      "\u001b[1;32mc:\\users\\dmitr\\appdata\\local\\programs\\python\\python36-32\\lib\\site-packages\\yargy\\tree\\transformators.py\u001b[0m in \u001b[0;36m__call__\u001b[1;34m(self, tree)\u001b[0m\n\u001b[0;32m     94\u001b[0m \u001b[1;32mclass\u001b[0m \u001b[0mInterpretationTransformator\u001b[0m\u001b[1;33m(\u001b[0m\u001b[0mTreeTransformator\u001b[0m\u001b[1;33m)\u001b[0m\u001b[1;33m:\u001b[0m\u001b[1;33m\u001b[0m\u001b[0m\n\u001b[0;32m     95\u001b[0m     \u001b[1;32mdef\u001b[0m \u001b[0m__call__\u001b[0m\u001b[1;33m(\u001b[0m\u001b[0mself\u001b[0m\u001b[1;33m,\u001b[0m \u001b[0mtree\u001b[0m\u001b[1;33m)\u001b[0m\u001b[1;33m:\u001b[0m\u001b[1;33m\u001b[0m\u001b[0m\n\u001b[1;32m---> 96\u001b[1;33m         \u001b[1;32mreturn\u001b[0m \u001b[0mself\u001b[0m\u001b[1;33m.\u001b[0m\u001b[0mvisit\u001b[0m\u001b[1;33m(\u001b[0m\u001b[0mtree\u001b[0m\u001b[1;33m.\u001b[0m\u001b[0mroot\u001b[0m\u001b[1;33m)\u001b[0m\u001b[1;33m\u001b[0m\u001b[0m\n\u001b[0m\u001b[0;32m     97\u001b[0m \u001b[1;33m\u001b[0m\u001b[0m\n\u001b[0;32m     98\u001b[0m     \u001b[1;32mdef\u001b[0m \u001b[0mvisit_Node\u001b[0m\u001b[1;33m(\u001b[0m\u001b[0mself\u001b[0m\u001b[1;33m,\u001b[0m \u001b[0mitem\u001b[0m\u001b[1;33m)\u001b[0m\u001b[1;33m:\u001b[0m\u001b[1;33m\u001b[0m\u001b[0m\n",
      "\u001b[1;32mc:\\users\\dmitr\\appdata\\local\\programs\\python\\python36-32\\lib\\site-packages\\yargy\\visitor.py\u001b[0m in \u001b[0;36mvisit\u001b[1;34m(self, item)\u001b[0m\n\u001b[0;32m     17\u001b[0m \u001b[1;33m\u001b[0m\u001b[0m\n\u001b[0;32m     18\u001b[0m     \u001b[1;32mdef\u001b[0m \u001b[0mvisit\u001b[0m\u001b[1;33m(\u001b[0m\u001b[0mself\u001b[0m\u001b[1;33m,\u001b[0m \u001b[0mitem\u001b[0m\u001b[1;33m)\u001b[0m\u001b[1;33m:\u001b[0m\u001b[1;33m\u001b[0m\u001b[0m\n\u001b[1;32m---> 19\u001b[1;33m         \u001b[1;32mreturn\u001b[0m \u001b[0mself\u001b[0m\u001b[1;33m.\u001b[0m\u001b[0mresolve_method\u001b[0m\u001b[1;33m(\u001b[0m\u001b[0mitem\u001b[0m\u001b[1;33m)\u001b[0m\u001b[1;33m(\u001b[0m\u001b[0mitem\u001b[0m\u001b[1;33m)\u001b[0m\u001b[1;33m\u001b[0m\u001b[0m\n\u001b[0m\u001b[0;32m     20\u001b[0m \u001b[1;33m\u001b[0m\u001b[0m\n\u001b[0;32m     21\u001b[0m \u001b[1;33m\u001b[0m\u001b[0m\n",
      "\u001b[1;32mc:\\users\\dmitr\\appdata\\local\\programs\\python\\python36-32\\lib\\site-packages\\yargy\\tree\\transformators.py\u001b[0m in \u001b[0;36mvisit_Node\u001b[1;34m(self, item)\u001b[0m\n\u001b[0;32m     97\u001b[0m \u001b[1;33m\u001b[0m\u001b[0m\n\u001b[0;32m     98\u001b[0m     \u001b[1;32mdef\u001b[0m \u001b[0mvisit_Node\u001b[0m\u001b[1;33m(\u001b[0m\u001b[0mself\u001b[0m\u001b[1;33m,\u001b[0m \u001b[0mitem\u001b[0m\u001b[1;33m)\u001b[0m\u001b[1;33m:\u001b[0m\u001b[1;33m\u001b[0m\u001b[0m\n\u001b[1;32m---> 99\u001b[1;33m         \u001b[0minput\u001b[0m \u001b[1;33m=\u001b[0m \u001b[0mInterpretatorInput\u001b[0m\u001b[1;33m(\u001b[0m\u001b[0mself\u001b[0m\u001b[1;33m.\u001b[0m\u001b[0mvisit\u001b[0m\u001b[1;33m(\u001b[0m\u001b[0m_\u001b[0m\u001b[1;33m)\u001b[0m \u001b[1;32mfor\u001b[0m \u001b[0m_\u001b[0m \u001b[1;32min\u001b[0m \u001b[0mitem\u001b[0m\u001b[1;33m.\u001b[0m\u001b[0mchildren\u001b[0m\u001b[1;33m)\u001b[0m\u001b[1;33m\u001b[0m\u001b[0m\n\u001b[0m\u001b[0;32m    100\u001b[0m         \u001b[1;32mif\u001b[0m \u001b[0misinstance\u001b[0m\u001b[1;33m(\u001b[0m\u001b[0mitem\u001b[0m\u001b[1;33m.\u001b[0m\u001b[0mproduction\u001b[0m\u001b[1;33m,\u001b[0m \u001b[0mPipelineProduction\u001b[0m\u001b[1;33m)\u001b[0m\u001b[1;33m:\u001b[0m\u001b[1;33m\u001b[0m\u001b[0m\n\u001b[0;32m    101\u001b[0m             \u001b[0minput\u001b[0m\u001b[1;33m.\u001b[0m\u001b[0mkey\u001b[0m \u001b[1;33m=\u001b[0m \u001b[0mitem\u001b[0m\u001b[1;33m.\u001b[0m\u001b[0mproduction\u001b[0m\u001b[1;33m.\u001b[0m\u001b[0mvalue\u001b[0m\u001b[1;33m\u001b[0m\u001b[0m\n",
      "\u001b[1;32mc:\\users\\dmitr\\appdata\\local\\programs\\python\\python36-32\\lib\\site-packages\\yargy\\interpretation\\interpretator.py\u001b[0m in \u001b[0;36m__init__\u001b[1;34m(self, items, key)\u001b[0m\n\u001b[0;32m     29\u001b[0m \u001b[1;33m\u001b[0m\u001b[0m\n\u001b[0;32m     30\u001b[0m     \u001b[1;32mdef\u001b[0m \u001b[0m__init__\u001b[0m\u001b[1;33m(\u001b[0m\u001b[0mself\u001b[0m\u001b[1;33m,\u001b[0m \u001b[0mitems\u001b[0m\u001b[1;33m,\u001b[0m \u001b[0mkey\u001b[0m\u001b[1;33m=\u001b[0m\u001b[1;32mNone\u001b[0m\u001b[1;33m)\u001b[0m\u001b[1;33m:\u001b[0m\u001b[1;33m\u001b[0m\u001b[0m\n\u001b[1;32m---> 31\u001b[1;33m         \u001b[0mself\u001b[0m\u001b[1;33m.\u001b[0m\u001b[0mitems\u001b[0m \u001b[1;33m=\u001b[0m \u001b[0mlist\u001b[0m\u001b[1;33m(\u001b[0m\u001b[0mitems\u001b[0m\u001b[1;33m)\u001b[0m\u001b[1;33m\u001b[0m\u001b[0m\n\u001b[0m\u001b[0;32m     32\u001b[0m         \u001b[0mself\u001b[0m\u001b[1;33m.\u001b[0m\u001b[0mkey\u001b[0m \u001b[1;33m=\u001b[0m \u001b[0mkey\u001b[0m\u001b[1;33m\u001b[0m\u001b[0m\n\u001b[0;32m     33\u001b[0m \u001b[1;33m\u001b[0m\u001b[0m\n",
      "\u001b[1;32mc:\\users\\dmitr\\appdata\\local\\programs\\python\\python36-32\\lib\\site-packages\\yargy\\tree\\transformators.py\u001b[0m in \u001b[0;36m<genexpr>\u001b[1;34m(.0)\u001b[0m\n\u001b[0;32m     97\u001b[0m \u001b[1;33m\u001b[0m\u001b[0m\n\u001b[0;32m     98\u001b[0m     \u001b[1;32mdef\u001b[0m \u001b[0mvisit_Node\u001b[0m\u001b[1;33m(\u001b[0m\u001b[0mself\u001b[0m\u001b[1;33m,\u001b[0m \u001b[0mitem\u001b[0m\u001b[1;33m)\u001b[0m\u001b[1;33m:\u001b[0m\u001b[1;33m\u001b[0m\u001b[0m\n\u001b[1;32m---> 99\u001b[1;33m         \u001b[0minput\u001b[0m \u001b[1;33m=\u001b[0m \u001b[0mInterpretatorInput\u001b[0m\u001b[1;33m(\u001b[0m\u001b[0mself\u001b[0m\u001b[1;33m.\u001b[0m\u001b[0mvisit\u001b[0m\u001b[1;33m(\u001b[0m\u001b[0m_\u001b[0m\u001b[1;33m)\u001b[0m \u001b[1;32mfor\u001b[0m \u001b[0m_\u001b[0m \u001b[1;32min\u001b[0m \u001b[0mitem\u001b[0m\u001b[1;33m.\u001b[0m\u001b[0mchildren\u001b[0m\u001b[1;33m)\u001b[0m\u001b[1;33m\u001b[0m\u001b[0m\n\u001b[0m\u001b[0;32m    100\u001b[0m         \u001b[1;32mif\u001b[0m \u001b[0misinstance\u001b[0m\u001b[1;33m(\u001b[0m\u001b[0mitem\u001b[0m\u001b[1;33m.\u001b[0m\u001b[0mproduction\u001b[0m\u001b[1;33m,\u001b[0m \u001b[0mPipelineProduction\u001b[0m\u001b[1;33m)\u001b[0m\u001b[1;33m:\u001b[0m\u001b[1;33m\u001b[0m\u001b[0m\n\u001b[0;32m    101\u001b[0m             \u001b[0minput\u001b[0m\u001b[1;33m.\u001b[0m\u001b[0mkey\u001b[0m \u001b[1;33m=\u001b[0m \u001b[0mitem\u001b[0m\u001b[1;33m.\u001b[0m\u001b[0mproduction\u001b[0m\u001b[1;33m.\u001b[0m\u001b[0mvalue\u001b[0m\u001b[1;33m\u001b[0m\u001b[0m\n",
      "\u001b[1;32mc:\\users\\dmitr\\appdata\\local\\programs\\python\\python36-32\\lib\\site-packages\\yargy\\visitor.py\u001b[0m in \u001b[0;36mvisit\u001b[1;34m(self, item)\u001b[0m\n\u001b[0;32m     17\u001b[0m \u001b[1;33m\u001b[0m\u001b[0m\n\u001b[0;32m     18\u001b[0m     \u001b[1;32mdef\u001b[0m \u001b[0mvisit\u001b[0m\u001b[1;33m(\u001b[0m\u001b[0mself\u001b[0m\u001b[1;33m,\u001b[0m \u001b[0mitem\u001b[0m\u001b[1;33m)\u001b[0m\u001b[1;33m:\u001b[0m\u001b[1;33m\u001b[0m\u001b[0m\n\u001b[1;32m---> 19\u001b[1;33m         \u001b[1;32mreturn\u001b[0m \u001b[0mself\u001b[0m\u001b[1;33m.\u001b[0m\u001b[0mresolve_method\u001b[0m\u001b[1;33m(\u001b[0m\u001b[0mitem\u001b[0m\u001b[1;33m)\u001b[0m\u001b[1;33m(\u001b[0m\u001b[0mitem\u001b[0m\u001b[1;33m)\u001b[0m\u001b[1;33m\u001b[0m\u001b[0m\n\u001b[0m\u001b[0;32m     20\u001b[0m \u001b[1;33m\u001b[0m\u001b[0m\n\u001b[0;32m     21\u001b[0m \u001b[1;33m\u001b[0m\u001b[0m\n",
      "\u001b[1;32mc:\\users\\dmitr\\appdata\\local\\programs\\python\\python36-32\\lib\\site-packages\\yargy\\tree\\transformators.py\u001b[0m in \u001b[0;36mvisit_Node\u001b[1;34m(self, item)\u001b[0m\n\u001b[0;32m    100\u001b[0m         \u001b[1;32mif\u001b[0m \u001b[0misinstance\u001b[0m\u001b[1;33m(\u001b[0m\u001b[0mitem\u001b[0m\u001b[1;33m.\u001b[0m\u001b[0mproduction\u001b[0m\u001b[1;33m,\u001b[0m \u001b[0mPipelineProduction\u001b[0m\u001b[1;33m)\u001b[0m\u001b[1;33m:\u001b[0m\u001b[1;33m\u001b[0m\u001b[0m\n\u001b[0;32m    101\u001b[0m             \u001b[0minput\u001b[0m\u001b[1;33m.\u001b[0m\u001b[0mkey\u001b[0m \u001b[1;33m=\u001b[0m \u001b[0mitem\u001b[0m\u001b[1;33m.\u001b[0m\u001b[0mproduction\u001b[0m\u001b[1;33m.\u001b[0m\u001b[0mvalue\u001b[0m\u001b[1;33m\u001b[0m\u001b[0m\n\u001b[1;32m--> 102\u001b[1;33m         \u001b[1;32mreturn\u001b[0m \u001b[0mitem\u001b[0m\u001b[1;33m.\u001b[0m\u001b[0minterpretator\u001b[0m\u001b[1;33m(\u001b[0m\u001b[0minput\u001b[0m\u001b[1;33m)\u001b[0m\u001b[1;33m\u001b[0m\u001b[0m\n\u001b[0m\u001b[0;32m    103\u001b[0m \u001b[1;33m\u001b[0m\u001b[0m\n\u001b[0;32m    104\u001b[0m     \u001b[1;32mdef\u001b[0m \u001b[0mvisit_Leaf\u001b[0m\u001b[1;33m(\u001b[0m\u001b[0mself\u001b[0m\u001b[1;33m,\u001b[0m \u001b[0mitem\u001b[0m\u001b[1;33m)\u001b[0m\u001b[1;33m:\u001b[0m\u001b[1;33m\u001b[0m\u001b[0m\n",
      "\u001b[1;32mc:\\users\\dmitr\\appdata\\local\\programs\\python\\python36-32\\lib\\site-packages\\yargy\\interpretation\\interpretator.py\u001b[0m in \u001b[0;36m__call__\u001b[1;34m(self, items)\u001b[0m\n\u001b[0;32m    220\u001b[0m \u001b[1;33m\u001b[0m\u001b[0m\n\u001b[0;32m    221\u001b[0m     \u001b[1;32mdef\u001b[0m \u001b[0m__call__\u001b[0m\u001b[1;33m(\u001b[0m\u001b[0mself\u001b[0m\u001b[1;33m,\u001b[0m \u001b[0mitems\u001b[0m\u001b[1;33m)\u001b[0m\u001b[1;33m:\u001b[0m\u001b[1;33m\u001b[0m\u001b[0m\n\u001b[1;32m--> 222\u001b[1;33m         \u001b[0mvalue\u001b[0m \u001b[1;33m=\u001b[0m \u001b[0mNormalizerInterpretator\u001b[0m\u001b[1;33m.\u001b[0m\u001b[0m__call__\u001b[0m\u001b[1;33m(\u001b[0m\u001b[0mself\u001b[0m\u001b[1;33m,\u001b[0m \u001b[0mitems\u001b[0m\u001b[1;33m)\u001b[0m\u001b[1;33m\u001b[0m\u001b[0m\n\u001b[0m\u001b[0;32m    223\u001b[0m         \u001b[1;32mreturn\u001b[0m \u001b[0mAttributeResult\u001b[0m\u001b[1;33m(\u001b[0m\u001b[0mvalue\u001b[0m\u001b[1;33m,\u001b[0m \u001b[0mself\u001b[0m\u001b[1;33m.\u001b[0m\u001b[0mattribute\u001b[0m\u001b[1;33m)\u001b[0m\u001b[1;33m\u001b[0m\u001b[0m\n\u001b[0;32m    224\u001b[0m \u001b[1;33m\u001b[0m\u001b[0m\n",
      "\u001b[1;32mc:\\users\\dmitr\\appdata\\local\\programs\\python\\python36-32\\lib\\site-packages\\yargy\\interpretation\\interpretator.py\u001b[0m in \u001b[0;36m__call__\u001b[1;34m(self, input)\u001b[0m\n\u001b[0;32m    204\u001b[0m                     \u001b[0mtypes\u001b[0m\u001b[1;33m=\u001b[0m\u001b[1;33m[\u001b[0m\u001b[0mtype\u001b[0m\u001b[1;33m(\u001b[0m\u001b[0m_\u001b[0m\u001b[1;33m)\u001b[0m \u001b[1;32mfor\u001b[0m \u001b[0m_\u001b[0m \u001b[1;32min\u001b[0m \u001b[0mitems\u001b[0m\u001b[1;33m]\u001b[0m\u001b[1;33m\u001b[0m\u001b[0m\n\u001b[0;32m    205\u001b[0m                 ))\n\u001b[1;32m--> 206\u001b[1;33m             \u001b[0mvalue\u001b[0m \u001b[1;33m=\u001b[0m \u001b[0mself\u001b[0m\u001b[1;33m.\u001b[0m\u001b[0mnormalizer\u001b[0m\u001b[1;33m(\u001b[0m\u001b[0minput\u001b[0m\u001b[1;33m)\u001b[0m\u001b[1;33m\u001b[0m\u001b[0m\n\u001b[0m\u001b[0;32m    207\u001b[0m         \u001b[1;32mreturn\u001b[0m \u001b[0mNormalizerResult\u001b[0m\u001b[1;33m(\u001b[0m\u001b[0mvalue\u001b[0m\u001b[1;33m,\u001b[0m \u001b[0minput\u001b[0m\u001b[1;33m)\u001b[0m\u001b[1;33m\u001b[0m\u001b[0m\n\u001b[0;32m    208\u001b[0m \u001b[1;33m\u001b[0m\u001b[0m\n",
      "\u001b[1;32mc:\\users\\dmitr\\appdata\\local\\programs\\python\\python36-32\\lib\\site-packages\\yargy\\interpretation\\normalizer.py\u001b[0m in \u001b[0;36m__call__\u001b[1;34m(self, items)\u001b[0m\n\u001b[0;32m    127\u001b[0m     \u001b[1;32mdef\u001b[0m \u001b[0m__call__\u001b[0m\u001b[1;33m(\u001b[0m\u001b[0mself\u001b[0m\u001b[1;33m,\u001b[0m \u001b[0mitems\u001b[0m\u001b[1;33m)\u001b[0m\u001b[1;33m:\u001b[0m\u001b[1;33m\u001b[0m\u001b[0m\n\u001b[0;32m    128\u001b[0m         \u001b[0mvalue\u001b[0m \u001b[1;33m=\u001b[0m \u001b[0mself\u001b[0m\u001b[1;33m.\u001b[0m\u001b[0mmorph\u001b[0m\u001b[1;33m(\u001b[0m\u001b[0mitems\u001b[0m\u001b[1;33m)\u001b[0m\u001b[1;33m\u001b[0m\u001b[0m\n\u001b[1;32m--> 129\u001b[1;33m         \u001b[1;32mreturn\u001b[0m \u001b[0mself\u001b[0m\u001b[1;33m.\u001b[0m\u001b[0mfunction\u001b[0m\u001b[1;33m(\u001b[0m\u001b[0mvalue\u001b[0m\u001b[1;33m)\u001b[0m\u001b[1;33m\u001b[0m\u001b[0m\n\u001b[0m\u001b[0;32m    130\u001b[0m \u001b[1;33m\u001b[0m\u001b[0m\n\u001b[0;32m    131\u001b[0m     \u001b[1;33m@\u001b[0m\u001b[0mproperty\u001b[0m\u001b[1;33m\u001b[0m\u001b[0m\n",
      "\u001b[1;31mKeyError\u001b[0m: 'парный'"
     ]
    }
   ],
   "source": [
    "from yargy import Parser\n",
    "from gendertype import GENDER_PARSER, GenderFact\n",
    "from ipymarkup import show_markup\n",
    "from dataloader import DataLoader\n",
    "from random import sample\n",
    "from IPython.display import display\n",
    "\n",
    "lines = DataLoader().getTextList()\n",
    "parser = Parser(GENDER_PARSER)\n",
    "\n",
    "# 5 first element from list\n",
    "for line in lines[:20]:\n",
    "    matches = list(parser.findall(line))\n",
    "    print('----------------------------------------------------------------------')\n",
    "    for match in matches:\n",
    "        display(match.fact)\n",
    "        print([_.value + ':' for _ in match.tokens])\n",
    "    spans = [_.span for _ in matches]\n",
    "    show_markup(line, spans)"
   ]
  },
  {
   "cell_type": "code",
   "execution_count": null,
   "metadata": {},
   "outputs": [],
   "source": []
  },
  {
   "cell_type": "code",
   "execution_count": null,
   "metadata": {},
   "outputs": [],
   "source": []
  }
 ],
 "metadata": {
  "kernelspec": {
   "display_name": "Python 3",
   "language": "python",
   "name": "python3"
  },
  "language_info": {
   "codemirror_mode": {
    "name": "ipython",
    "version": 3
   },
   "file_extension": ".py",
   "mimetype": "text/x-python",
   "name": "python",
   "nbconvert_exporter": "python",
   "pygments_lexer": "ipython3",
   "version": "3.6.0"
  }
 },
 "nbformat": 4,
 "nbformat_minor": 2
}
